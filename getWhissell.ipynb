{
 "cells": [
  {
   "cell_type": "markdown",
   "metadata": {},
   "source": [
    "So we are going to try to do Gina's thing. That means finding the word, getting the 6 words before and behind, replacing them with the Whissel Dictionary numbers, then doing something with them. I will use the text of The Waves because I already have it. I will use the word 'bird' because it is in there a few times. I used WordSmith Tools  to doublecheck concordance accuracy and context accuracy. Re.sub routines first save out text and apostrophes, then remove apostrophes (single quotes) preceded or followed by a space. Thus only apostrophes inside words remain. "
   ]
  },
  {
   "cell_type": "code",
   "execution_count": 12,
   "metadata": {},
   "outputs": [
    {
     "name": "stdout",
     "output_type": "stream",
     "text": [
      "Displaying 3 of 3 matches:\n",
      "ts i doubt that titian ever felt this rat gnaw painters live lives of methodica\n",
      "ike sparks upon the depths of green a rat wreathing with maggots under a rhubar\n",
      "apple tree stark in the moonlight the rat swarming with maggots the lustre drip\n",
      "None\n"
     ]
    }
   ],
   "source": [
    "import re\n",
    "import nltk\n",
    "import matplotlib.pyplot as plt\n",
    "from statistics import mean\n",
    "\n",
    "targetDoc = \"texts/chores.txt\"     # the text to analyze (relative path)\n",
    "targetWord = \"cows\"               # the word type you want to score\n",
    "targetWindow = 9                  # this is tokens before and after target\n",
    "\n",
    "doc = open(targetDoc, 'r').read()                  # open source text\n",
    "doc_words = re.sub(\"[^a-zA-Z']\",\" \", doc)          # save only text and apostrophes\n",
    "doc_words = re.sub(\"('\\s|\\s')\",\" \", doc_words).lower().split()     # remove apostrophes outside words\n",
    "doc_text = nltk.Text(doc_words)\n",
    "myword = doc_text.concordance(targetWord) \n",
    "print(myword)\n"
   ]
  },
  {
   "cell_type": "markdown",
   "metadata": {},
   "source": [
    "    c = nltk.ConcordanceIndex(doc_text.tokens, key = lambda s: s.lower())\n",
    "basically indexes the words for every token of the text. The 'offset' function returns the list of token offset positions for a word. (c.\\_tokens) is the list of words, so a subscript of that will access the exact word at that position. \n",
    "Next, open the DA file and read it into a dictionary. Each line is split so the word is the key and the three Whissell numbers is the value. Lookup is simple: get(key) returns value: daffect.get(c.\\_tokens[335]). Then split the value strings into three floating point numbers because math."
   ]
  },
  {
   "cell_type": "code",
   "execution_count": 13,
   "metadata": {},
   "outputs": [
    {
     "name": "stdout",
     "output_type": "stream",
     "text": [
      "rat offset = 40207\n",
      "doubt that titian ever felt this rat gnaw painters live lives of methodical\n",
      "No Values for ['titian', 'rat', 'methodical']\n",
      "EE = 1.7988 AA = 1.8161 II = 1.4 \n",
      "\n",
      "rat offset = 62266\n",
      "upon the depths of green a rat wreathing with maggots under a rhubarb\n",
      "No Values for ['rat', 'wreathing', 'maggots', 'rhubarb']\n",
      "EE = 1.8047 AA = 1.5201 II = 1.42 \n",
      "\n",
      "rat offset = 62743\n",
      "tree stark in the moonlight the rat swarming with maggots the lustre dripping\n",
      "No Values for ['stark', 'rat', 'swarming', 'maggots', 'lustre', 'dripping']\n",
      "EE = 2.0419 AA = 1.3099 II = 1.71 \n",
      "\n",
      "Type Means for rat\n",
      "EE = 1.8663\n",
      "AA = 1.5774\n",
      "II = 1.49\n",
      "No values for ['dripping', 'lustre', 'maggots', 'methodical', 'rat', 'rhubarb', 'stark', 'swarming', 'titian', 'wreathing']\n",
      "Hit Ratio = % 66.7\n"
     ]
    }
   ],
   "source": [
    "c = nltk.ConcordanceIndex(doc_text.tokens, key = lambda s: s.lower())\n",
    "locations = c.offsets(targetWord)\n",
    "\n",
    "with open(\"texts/DAL.txt\") as dictionary_affect_file:\n",
    "   daffect = dict(line.rstrip().split(\",\", 1) for line in dictionary_affect_file)\n",
    "\n",
    "alleevals = []                   #declare lists of vals for every token found in text\n",
    "allaavals = []\n",
    "alliivals = []\n",
    "allNonelist = []                 # keep all nonelist for token report\n",
    "allAvgeevals = []                # keep list of avg vals for plotting\n",
    "allAvgaavals = []\n",
    "allAvgiivals = []\n",
    "\n",
    "for location in locations:       #iterate over list of concordance hit offsets\n",
    "    print (c._tokens[location], \"offset =\", location)\n",
    "    phrase = []                  #keep a list of tokens in the phrase\n",
    "    nonelist = []                #new val lists for each interation of a location\n",
    "    eevals = []\n",
    "    aavals = []\n",
    "    iivals = []     \n",
    "    for i in range(0-targetWindow, 1+targetWindow):        #iterate over range from target offset, range extends up to but no including\n",
    "        #print (c._tokens[location+i], daffect.get(c._tokens[location+i]))\n",
    "        #print (c._tokens[location-i], daffect.get(c._tokens[location-i]))\n",
    "        phrase.append(c._tokens[location+i]) \n",
    "         \n",
    "        if daffect.get(c._tokens[location+i]) is None:\n",
    "            nonelist.append(c._tokens[location+i])         # prepare report of words not in DAL\n",
    "        else:\n",
    "            eeval, aaval, iival = daffect.get(c._tokens[location+i]).split(\",\")\n",
    "            eevals.append(float(eeval))                    # have to convert these to fp numbers\n",
    "            aavals.append(float(aaval))\n",
    "            iivals.append(float(iival))\n",
    "            #print (c._tokens[location+i], \"eevals = \", eevals)\n",
    "            #print (\"eevals length =\",len(eevals))\n",
    "            \n",
    "    alleevals.extend(eevals)                 #add vals from this token onto alltokens list\n",
    "    allaavals.extend(aavals)                 #to calculate mean of alltokens \n",
    "    alliivals.extend(iivals)                 #problem: target word gets added each time\n",
    "    allNonelist.extend(nonelist)\n",
    "    #print (alleevals) #check to see\n",
    "    \n",
    "    avgeevals = round(mean(eevals), 4)       # rounded to 4 decimal places like Whissell\n",
    "    avgaavals = round(mean(aavals), 4)       # rounded to 4 decimal places like Whissell\n",
    "    avgiivals = round(mean(iivals), 2)       # rounded to 2 decimal places like Whissell\n",
    "    \n",
    "    allAvgeevals.append(avgeevals - 1.85)  # .extend causes a TypeError: 'float' object is not iterable\n",
    "    allAvgaavals.append(avgaavals - 1.67)  # We subtract the balanced corpus mean to give variance\n",
    "    allAvgiivals.append(avgiivals - 1.525)\n",
    "    \n",
    "    # here follow the token reports: all the words, the No Vals list, and the scores\n",
    "    print (\" \".join(word for word in phrase))\n",
    "    print (\"No Values for\", nonelist)\n",
    "    print (\"EE =\", avgeevals, \"AA =\", avgaavals, \"II =\", avgiivals, \"\\n\") \n",
    "\n",
    "hitratio = 100*(round(len(alleevals) / (len(alleevals) + len(allNonelist)), 3))\n",
    "meanTotaleevals = round(mean(alleevals), 4)\n",
    "meanTotalaavals = round(mean(allaavals), 4)\n",
    "meanTotaliivals = round(mean(alliivals), 2)\n",
    "\n",
    "# here follow the type reports: the target word, its score, and the hit ration. Need anything else?\n",
    "print (\"Type Means for\", targetWord) \n",
    "print (\"EE =\", meanTotaleevals)\n",
    "print (\"AA =\", meanTotalaavals)\n",
    "print (\"II =\", meanTotaliivals)\n",
    "print (\"No values for\", list(sorted(set(allNonelist))))\n",
    "print (\"Hit Ratio = %\",hitratio)\n",
    "    \n"
   ]
  },
  {
   "cell_type": "markdown",
   "metadata": {},
   "source": [
    "Next step is to display values for each word plotted over the book. Really need to follow her methodology as first guesstimate. \"The mean of all values for a sample characterizes the sample as a whole.\" Whissell 2009, 515. She takes the mean for all word sets involved. For _Much Ado about Nothing_ she takes total speeches from each character (p. 516) and compares values to compare characters. In her other test she examines a police-involved shooting in Ireland, the speech of the shooter and of the later police report. There she focuses on the extreme ends of the emotion scales, and the method is not quite clear. She refers to a 2007 article on \"Ruth\" that clarifies nothing--she compares to \"normative\" numbers of strong emotion words in her 1998 corpus but does not provide those numbers anywhere that I found. \n",
    "Display: from DAL: on a balanced corpus, mean ee is 1.85, with an sd of .36. So, if we subtract 1.85 from our eevals we will get the distance positive or negative from the mean. Lets try it."
   ]
  },
  {
   "cell_type": "code",
   "execution_count": 14,
   "metadata": {},
   "outputs": [
    {
     "data": {
      "image/png": "[encoded data removed]",
      "text/plain": [
       "<Figure size 432x288 with 1 Axes>"
      ]
     },
     "metadata": {
      "needs_background": "light"
     },
     "output_type": "display_data"
    }
   ],
   "source": [
    "plt.plot(allAvgeevals, 'g', allAvgaavals, 'r', allAvgiivals, 'orange')\n",
    "plt.suptitle(targetWord)\n",
    "plt.show()"
   ]
  }
 ],
 "metadata": {
  "kernelspec": {
   "display_name": "Python 3",
   "language": "python",
   "name": "python3"
  },
  "language_info": {
   "codemirror_mode": {
    "name": "ipython",
    "version": 3
   },
   "file_extension": ".py",
   "mimetype": "text/x-python",
   "name": "python",
   "nbconvert_exporter": "python",
   "pygments_lexer": "ipython3",
   "version": "3.6.7"
  }
 },
 "nbformat": 4,
 "nbformat_minor": 2
}
